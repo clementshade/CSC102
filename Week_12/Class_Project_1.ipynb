{
 "cells": [
  {
   "cell_type": "markdown",
   "metadata": {},
   "source": [
    "Develop a python OOP program that creates an abstract base class called coup_de_ecriva.  The base class will have one abstract method called <b>Fan_Page</b> and four subclassses namely; <b>FC_Cirok, Madiba_FC, Blue_Jay_FC and TSG_Walker</b>. The program will receive as input the name of the club the user supports and instantiate an object that will invoke the <b>Fan_Page</b> method in the subclass that prints Welcome to <b>\"club name\"</b>.\n",
    "\n",
    "<p><b>Hint:</b></p>\n",
    "The subclasses will use <b>Single Inheritance</b> to inherit the abstract base class.\n",
    " "
   ]
  },
  {
   "cell_type": "markdown",
   "metadata": {},
   "source": [
    "- Base Class coup_de_ecriva\n",
    "***\n",
    "- SUB Class\n",
    "- FC_C\n",
    "\n",
    "- FC_M\n",
    "- FC_BJ\n",
    "- TSG_W\n",
    "***\n",
    "#### FOMART\n",
    "- START\n",
    "- INPUT\n",
    "- INSTACE\n",
    "- CALL METHOD \"FAN PAGE\"\n",
    "***\n",
    "\n",
    " - inputs(NAME OF CLUB)\n",
    " - output(WELCOME)\n",
    "\n",
    "#### HINT : SINGLE INHERITANCE"
   ]
  },
  {
   "cell_type": "code",
   "execution_count": 61,
   "metadata": {},
   "outputs": [
    {
     "name": "stdout",
     "output_type": "stream",
     "text": [
      "\n",
      "Enter number of club:\n",
      "1.FC_Cirok\n",
      "2.Madiba_FC\n",
      "3.Blue_Jay_FC\n",
      "4.TSG_Walker\n",
      "4\n",
      "Welcome to TSG_Walker\n"
     ]
    }
   ],
   "source": [
    "from abc import ABC,abstractmethod\n",
    "\n",
    "class coup_de_ecriva(ABC):\n",
    "    \n",
    "    @abstractmethod\n",
    "    def Fan_Page(self):\n",
    "        pass\n",
    "    \n",
    "class FC_Cirok(coup_de_ecriva):\n",
    "    def Fan_Page(self):\n",
    "        self.club_name = \"FC_Cirok\"\n",
    "        print(\"Welcome to\",self.club_name)\n",
    "        \n",
    "\n",
    "    \n",
    "        \n",
    "class Madiba_FC(coup_de_ecriva):\n",
    "    def __init__(self):\n",
    "        self.club_name = \"Madiba_FC\"\n",
    "    def Fan_Page(self):\n",
    "        print(\"Welcome to\",self.club_name)\n",
    "\n",
    "        \n",
    "        \n",
    "class Blue_jay(coup_de_ecriva):\n",
    "    def __init__(self):\n",
    "        self.club_name = \"Blue_Jay_FC\"\n",
    "    def Fan_Page(self):\n",
    "        print(\"Welcome to\",self.club_name)\n",
    "        \n",
    "        \n",
    "class TSG_Walker(coup_de_ecriva):\n",
    "    def __init__(self):\n",
    "        self.club_name = \"TSG_Walker\"\n",
    "    def Fan_Page(self):\n",
    "        print(\"Welcome to\",self.club_name)\n",
    "        \n",
    "        \n",
    "x = int(input(\"\"\"\n",
    "Enter number of club:\n",
    "1.FC_Cirok\n",
    "2.Madiba_FC\n",
    "3.Blue_Jay_FC\n",
    "4.TSG_Walker\n",
    "\"\"\"))\n",
    "\n",
    "if x == 1:\n",
    "    club = FC_Cirok()\n",
    "    club.Fan_Page()\n",
    "elif x==2:\n",
    "    club = Madiba_FC()\n",
    "    club.Fan_Page()\n",
    "elif x==3:\n",
    "    club = Blue_jay()\n",
    "    club.Fan_Page()\n",
    "elif x==4:\n",
    "    club = TSG_Walker()\n",
    "    club.Fan_Page()\n",
    "else: \n",
    "    print(\"Wrong Input\")\n",
    "    \n",
    "    "
   ]
  },
  {
   "cell_type": "code",
   "execution_count": null,
   "metadata": {},
   "outputs": [],
   "source": []
  }
 ],
 "metadata": {
  "kernelspec": {
   "display_name": "Python 3",
   "language": "python",
   "name": "python3"
  },
  "language_info": {
   "codemirror_mode": {
    "name": "ipython",
    "version": 3
   },
   "file_extension": ".py",
   "mimetype": "text/x-python",
   "name": "python",
   "nbconvert_exporter": "python",
   "pygments_lexer": "ipython3",
   "version": "3.8.5"
  }
 },
 "nbformat": 4,
 "nbformat_minor": 4
}
