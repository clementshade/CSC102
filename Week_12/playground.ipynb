{
 "cells": [
  {
   "cell_type": "code",
   "execution_count": 1,
   "metadata": {},
   "outputs": [
    {
     "name": "stdout",
     "output_type": "stream",
     "text": [
      "True\n"
     ]
    }
   ],
   "source": [
    "class ANIMAL():\n",
    "    pass\n",
    "class dog(ANIMAL):\n",
    "    pass\n",
    "\n",
    "ruff = dog()\n",
    "\n",
    "print(isinstance(5, int))"
   ]
  },
  {
   "cell_type": "code",
   "execution_count": 18,
   "metadata": {},
   "outputs": [
    {
     "ename": "TypeError",
     "evalue": "Can't instantiate abstract class civil with abstract methods side_call",
     "output_type": "error",
     "traceback": [
      "\u001b[1;31m---------------------------------------------------------------------------\u001b[0m",
      "\u001b[1;31mTypeError\u001b[0m                                 Traceback (most recent call last)",
      "\u001b[1;32m<ipython-input-18-25abbbf045a6>\u001b[0m in \u001b[0;36m<module>\u001b[1;34m\u001b[0m\n\u001b[0;32m     20\u001b[0m \u001b[1;33m\u001b[0m\u001b[0m\n\u001b[0;32m     21\u001b[0m \u001b[0mbatman\u001b[0m \u001b[1;33m=\u001b[0m \u001b[0mhero\u001b[0m\u001b[1;33m(\u001b[0m\u001b[1;33m)\u001b[0m\u001b[1;33m\u001b[0m\u001b[1;33m\u001b[0m\u001b[0m\n\u001b[1;32m---> 22\u001b[1;33m \u001b[0mrobin\u001b[0m \u001b[1;33m=\u001b[0m \u001b[0mcivil\u001b[0m\u001b[1;33m(\u001b[0m\u001b[1;33m)\u001b[0m\u001b[1;33m\u001b[0m\u001b[1;33m\u001b[0m\u001b[0m\n\u001b[0m\u001b[0;32m     23\u001b[0m \u001b[0mjoker\u001b[0m \u001b[1;33m=\u001b[0m \u001b[0mvillan\u001b[0m\u001b[1;33m(\u001b[0m\u001b[1;33m)\u001b[0m\u001b[1;33m\u001b[0m\u001b[1;33m\u001b[0m\u001b[0m\n\u001b[0;32m     24\u001b[0m \u001b[1;33m\u001b[0m\u001b[0m\n",
      "\u001b[1;31mTypeError\u001b[0m: Can't instantiate abstract class civil with abstract methods side_call"
     ]
    }
   ],
   "source": [
    "from abc import ABC,abstractmethod\n",
    "\n",
    "class hero():\n",
    "    def hero_call(self):\n",
    "        print(\"My name is ...\")\n",
    "    pass\n",
    "\n",
    "class civil(ABC,hero):\n",
    "    @abstractmethod\n",
    "    def side_call(self):\n",
    "        print(\"My young name is ...\")\n",
    "    pass\n",
    "\n",
    "class villan(ABC):\n",
    "    \n",
    "    @abstractmethod\n",
    "    def villan_call(self):\n",
    "        print(\"My name is not ...\")\n",
    "    pass\n",
    "\n",
    "batman = hero()\n",
    "robin = civil()\n",
    "joker = villan()\n",
    "\n",
    "\n",
    "batman.hero_call()\n",
    "robin.hero_call()\n",
    "joker.villan_call()"
   ]
  },
  {
   "cell_type": "code",
   "execution_count": null,
   "metadata": {},
   "outputs": [],
   "source": []
  }
 ],
 "metadata": {
  "kernelspec": {
   "display_name": "Python 3",
   "language": "python",
   "name": "python3"
  },
  "language_info": {
   "codemirror_mode": {
    "name": "ipython",
    "version": 3
   },
   "file_extension": ".py",
   "mimetype": "text/x-python",
   "name": "python",
   "nbconvert_exporter": "python",
   "pygments_lexer": "ipython3",
   "version": "3.8.5"
  }
 },
 "nbformat": 4,
 "nbformat_minor": 4
}
