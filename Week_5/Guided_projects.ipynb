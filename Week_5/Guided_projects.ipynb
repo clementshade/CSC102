{
 "cells": [
  {
   "cell_type": "markdown",
   "metadata": {},
   "source": [
    "# Project 1"
   ]
  },
  {
   "cell_type": "markdown",
   "metadata": {},
   "source": [
    "# pseudo code 1\n",
    "<br> BEGIN\n",
    "<br> INPUT list . [list of words]\n",
    "<br> INITIALZE  bad word counter . [list for number of bad letters]\n",
    "<br> INPUT forbidden letters . [list of forbidden letters]\n",
    "<br> num  = 0 \n",
    "<br> FOR word in list\n",
    "   * FOR letter in word\n",
    "       * IF letter in forbidden letters\n",
    "           * DISPLAY \"There are bad letters\"\n",
    "           * num += 1\n",
    "       * ENDIF\n",
    "       * DISPLAY word, \"number of bad letters = \", num\n",
    "       * APPEND num to bad word counter\n",
    "    * ENDFOR\n",
    "    \n",
    "<br> DISPLAY MIN(bad word counter)\n",
    "\n",
    "<br> END"
   ]
  },
  {
   "cell_type": "markdown",
   "metadata": {},
   "source": [
    "## Code 1"
   ]
  },
  {
   "cell_type": "code",
   "execution_count": 31,
   "metadata": {},
   "outputs": [
    {
     "name": "stdout",
     "output_type": "stream",
     "text": [
      "The words are ['hello', 'bye', 'care', 'abc']\n",
      "what are your forbidden letter? (e.g 'e')e\n",
      "hello False Number of bad letters 1\n",
      "\n",
      "bye False Number of bad letters 1\n",
      "\n",
      "care False Number of bad letters 1\n",
      "\n",
      "abc True Number of bad letters 0\n",
      "\n",
      "abc has the least number of bad letters\n"
     ]
    }
   ],
   "source": [
    "lis1 = [\"hello\",\"bye\",\"care\",\"abc\"]\n",
    "\n",
    "\n",
    "bad_counter = []\n",
    "\n",
    "print(\"The words are \",end = \"\")\n",
    "print(lis1)\n",
    "bad_letters = list(str(input(\"what are your forbidden letter? (e.g \\'e\\')\")))\n",
    "\n",
    "\n",
    "def avoids(a):\n",
    "    num = 0\n",
    "    correct = True\n",
    "    word = a \n",
    "    for i in list(word):\n",
    "        if i in bad_letters:\n",
    "           # print(\"no\")\n",
    "            correct = False\n",
    "            num += 1\n",
    "        else:\n",
    "            pass\n",
    "           # print(\"yes\")\n",
    "    print(a, correct,\"Number of bad letters\",num,end = \"\\n\\n\")\n",
    "    bad_counter.append(num)\n",
    "       \n",
    "for a in lis1:\n",
    "    avoids(a)\n",
    "\n",
    "hard = (min(bad_counter))\n",
    "\n",
    "least = (bad_counter.index(hard))\n",
    "print(lis1[least],\"has the least number of bad letters\")\n"
   ]
  },
  {
   "cell_type": "markdown",
   "metadata": {},
   "source": [
    "# Project 2"
   ]
  },
  {
   "cell_type": "markdown",
   "metadata": {},
   "source": [
    "## Pseudo code 2\n",
    "<br> BEGIN\n",
    "<br> INPUT list . [list of words]\n",
    "\n",
    "<br> INPUT required letters . [list of required letters]\n",
    "<br> FOR word in List\n",
    "   * FOR letter in required letters\n",
    "       * IF letter in word\n",
    "           RETURN\n",
    "       * ELSE\n",
    "           * DISPLAY word, \"uses all the required letters\"\n",
    "           \n",
    "<br> END"
   ]
  },
  {
   "cell_type": "markdown",
   "metadata": {},
   "source": [
    "## Code 2"
   ]
  },
  {
   "cell_type": "code",
   "execution_count": 5,
   "metadata": {},
   "outputs": [
    {
     "name": "stdout",
     "output_type": "stream",
     "text": [
      "The words are ['hello', 'bye', 'care', 'abc']\n",
      "required letters: a\n",
      "hello False\n",
      "bye False\n",
      "care True\n",
      "abc True\n"
     ]
    }
   ],
   "source": [
    "lis1 = [\"hello\",\"bye\",\"care\",\"abc\"]\n",
    "print(\"The words are \",end = \"\")\n",
    "print(lis1)\n",
    "\n",
    "let = list(input(\"required letters: \"))\n",
    "def uses_all(a):\n",
    "    use_all = True\n",
    "    for i in let:\n",
    "        if i in list(a):\n",
    "            pass\n",
    "        else:\n",
    "            use_all = False\n",
    "    print(a,use_all)\n",
    "\n",
    "for a in lis1:\n",
    "    uses_all(a)\n",
    "\n",
    "\n",
    "\n"
   ]
  },
  {
   "cell_type": "markdown",
   "metadata": {},
   "source": [
    "# Project 3\n"
   ]
  },
  {
   "cell_type": "code",
   "execution_count": null,
   "metadata": {},
   "outputs": [],
   "source": [
    "## Pseudo code 3\n",
    "\n",
    "<br> INPUT list . [number of fingers] \n",
    "<br> INPUT player1 choice (odd/even)\n",
    "<br> INPUT player2 choice (odd/even)\n",
    "<br> INITIALIZE variable answer\n",
    "\n",
    "<br> INITIALIZE variable player_1 = random number from list\n",
    "<br> INITIALIZE variable player_2= random number from list\n",
    "\n",
    "<br> COMPUTE SUM = player_1 + player_2\n",
    "<br> IF SUM%2 = 0 \n",
    "   * answer = \"even\"\n",
    "   * DISPLAY \"It is even\"\n",
    "   \n",
    "<br> ELSE\n",
    "   * answer = \"odd\"\n",
    "   * DISPLAY \"It is odd\"\n",
    "   \n",
    "<br> ENDIF\n",
    "\n",
    "<br> IF  player1 choice  = answer\n",
    "   * DISPLAY \"Player 1 wins\"\n",
    "<br> ELIF  player2 choice  = answer\n",
    "   * DISPLAY \"Player 2 wins\"\n",
    "<br> ELIF  player1 choice and player2 choice = answer\n",
    "   * DISPLAY \"Player 1 wins\"\n",
    "<br> ELSE\n",
    "   * DISPLAY \"Everyone has lost\"   "
   ]
  },
  {
   "cell_type": "markdown",
   "metadata": {},
   "source": [
    "## Code 3"
   ]
  },
  {
   "cell_type": "code",
   "execution_count": null,
   "metadata": {},
   "outputs": [],
   "source": [
    "import random\n",
    "lis1 = [0,1,2,3,4,5,6,7,8,9,10]\n",
    "\n",
    "\n",
    "def winner(x):\n",
    "    goal = False\n",
    "    if x == answer:\n",
    "        goal = True\n",
    "    return goal\n",
    "    \n",
    "        \n",
    "    \n",
    "\n",
    "player1 = str(input(\"player 1: Odd or Even: \")).lower()\n",
    "player2 = str(input(\"player 2: Odd or Even: \")).lower()\n",
    "\n",
    "player_1 = (random.choice(lis1))\n",
    "player_2 = (random.choice(lis1))\n",
    "\n",
    "print(\"player 1 chose\", player_1)\n",
    "print(\"player 2 chose\", player_2)\n",
    "\n",
    "summation = player_1 + player_2\n",
    "\n",
    "print(\"sum is\", summation)\n",
    "\n",
    "if summation%2 == 0:\n",
    "    answer = \"even\"\n",
    "    print(\"it's even\")\n",
    "    \n",
    "else:\n",
    "    answer = \"odd\"\n",
    "    print(\"it's odd\")\n",
    "\n",
    "if winner(player1) :\n",
    "    print(\"player 1 has won the game\")\n",
    "elif winner(player2):\n",
    "    print(\"player 2 has won the game\")\n",
    "elif winner(player1) and winner(player2):\n",
    "    print(\"Both players won\")\n",
    "else:\n",
    "    print(\"Everyone has lost\")\n",
    "\n"
   ]
  },
  {
   "cell_type": "markdown",
   "metadata": {},
   "source": [
    "# Project 4"
   ]
  },
  {
   "cell_type": "markdown",
   "metadata": {},
   "source": [
    "## Pseudo code 4"
   ]
  },
  {
   "cell_type": "code",
   "execution_count": null,
   "metadata": {},
   "outputs": [],
   "source": [
    "<br> BEGIN \n",
    "<br> INPUT Time\n",
    "<br> INPUT Distance\n",
    "<br> INPUT Formula one's drive time\n",
    "<br> INPUT Need for Speed's drive time\n",
    "\n",
    "<br> DISPLAY DISTANCE/Time\n",
    "<br> DISPLAY \"Formula one's speed\" DISTANCE/Formula one's drive time\n",
    "<br> DISPLAY \"Need for speed's speed\" DISTANCE/Need for Speed's drive time\n",
    "<br> END "
   ]
  },
  {
   "cell_type": "markdown",
   "metadata": {},
   "source": [
    "## Code 4"
   ]
  },
  {
   "cell_type": "code",
   "execution_count": null,
   "metadata": {},
   "outputs": [],
   "source": [
    "Time = 2.0\n",
    "distance = 50\n",
    "\n",
    "F_drive_time = float(input(\"Formula one's Time(hrs) to cover 50 miles\"))\n",
    "N_drive_time = float(input(\"Formula one's Time(hrs)  to cover 50 miles\"))\n",
    "\n",
    "def speed(D,T):\n",
    "    velocity = D/T\n",
    "    velocity = round(velocity)\n",
    "    print(velocity,\"miles per hour.\")\n",
    "\n",
    "print(\"For a car covering 50 miles in 2 hours\",end = \" \")\n",
    "speed(distance,Time)\n",
    "\n",
    "print(\"Formula one's speed \",end = \" \")\n",
    "speed(distance,F_drive_time)\n",
    "\n",
    "print(\"Need for speed's speed\",end = \" \")\n",
    "speed(distance,N_drive_time)\n"
   ]
  }
 ],
 "metadata": {
  "kernelspec": {
   "display_name": "Python 3",
   "language": "python",
   "name": "python3"
  },
  "language_info": {
   "codemirror_mode": {
    "name": "ipython",
    "version": 3
   },
   "file_extension": ".py",
   "mimetype": "text/x-python",
   "name": "python",
   "nbconvert_exporter": "python",
   "pygments_lexer": "ipython3",
   "version": "3.8.5"
  }
 },
 "nbformat": 4,
 "nbformat_minor": 4
}
