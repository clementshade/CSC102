{
 "cells": [
  {
   "cell_type": "code",
   "execution_count": 56,
   "metadata": {},
   "outputs": [
    {
     "name": "stdout",
     "output_type": "stream",
     "text": [
      "My name is Batman\n",
      "Gadgets\n",
      "10\n",
      "My name is Superman\n",
      "Flying\n",
      "17\n",
      "My name  is  Batman. My age is  10\n",
      "I use my power of Gadgets to save the city. My name  is  Superman. My age is  17\n",
      "I use my power of Flying to save the city. Batman\n",
      "Superman\n"
     ]
    }
   ],
   "source": [
    "class hero():\n",
    "    name = \"\"\n",
    "    def __init__(att,age,power):    \n",
    "        att.age = age\n",
    "        att.power = power\n",
    "        pass\n",
    "    def hero_speech(att):\n",
    "        print('My name is',att.name)\n",
    "        print(att.power)\n",
    "        print(att.age)\n",
    "    def call(att):\n",
    "        print(\"My name  is \", att.name,end = \". \")\n",
    "        print(\"My age is \", att.age)\n",
    "        print(\"I use my power of\", att.power,\"to save the city\",end = \". \")\n",
    "        pass\n",
    "    \n",
    "    \n",
    "x = hero(10,\"Gadgets\")\n",
    "y = hero(17,\"Flying\")\n",
    "\n",
    "x.name = \"Batman\"\n",
    "y.name = \"Superman\"\n",
    "x.name = \"Batman\"\n",
    "\n",
    "\n",
    "\n",
    "x.hero_speech()\n",
    "y.hero_speech()\n",
    "\n",
    "x.call()\n",
    "y.call()\n",
    "print(x.name)\n",
    "print(y.name)\n",
    "\n"
   ]
  },
  {
   "cell_type": "code",
   "execution_count": 60,
   "metadata": {},
   "outputs": [
    {
     "name": "stdout",
     "output_type": "stream",
     "text": [
      "<__main__.villan object at 0x0000024DCD376A60>\n"
     ]
    }
   ],
   "source": [
    "class villan():\n",
    "  \n",
    "    pass\n",
    "\n",
    "a = villan()\n",
    "\n",
    "print(a)"
   ]
  },
  {
   "cell_type": "code",
   "execution_count": 62,
   "metadata": {},
   "outputs": [
    {
     "name": "stdout",
     "output_type": "stream",
     "text": [
      "\n",
      "None\n"
     ]
    }
   ],
   "source": [
    "print(print())"
   ]
  },
  {
   "cell_type": "code",
   "execution_count": null,
   "metadata": {},
   "outputs": [],
   "source": []
  }
 ],
 "metadata": {
  "kernelspec": {
   "display_name": "Python 3",
   "language": "python",
   "name": "python3"
  },
  "language_info": {
   "codemirror_mode": {
    "name": "ipython",
    "version": 3
   },
   "file_extension": ".py",
   "mimetype": "text/x-python",
   "name": "python",
   "nbconvert_exporter": "python",
   "pygments_lexer": "ipython3",
   "version": "3.8.5"
  }
 },
 "nbformat": 4,
 "nbformat_minor": 4
}
