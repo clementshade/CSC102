{
 "cells": [
  {
   "cell_type": "code",
   "execution_count": 69,
   "metadata": {},
   "outputs": [
    {
     "name": "stdout",
     "output_type": "stream",
     "text": [
      "What is you name kind employee: qwde\n",
      "Sorry. qwde You are not a registered employeee. Good day\n"
     ]
    }
   ],
   "source": [
    "import random\n",
    "\n",
    "class Employee():\n",
    "    \n",
    "    \n",
    "    def __init__(self,name):\n",
    "        #employee name\n",
    "        self.name = name\n",
    "        self.present = False\n",
    "        #attendace\n",
    "        \n",
    "        pass\n",
    "    \n",
    "    Employees =[\"Mary Evans\", \"Eyo Ishan\", \"Durojaiye Dare\", \"Adams Ali\", \"Andrew Ugwu\", \"Stella Mankinde\", \"Jane Akibo\", \"Ago James\", \"Michell Taiwo\", \"Abraham Jones\" ,\n",
    "    \"Nicole Anide\", \"Kosi Korso\", \"Adele Martins\", \"Emmanuel Ojo\", \"Ajayi Fatima\"]\n",
    "    \n",
    "    Tasks = [\"Loading\", \"Transporting\", \"Reveiwing Orders\",\n",
    "    \"Customer Service\", \"Delivering Items\"]\n",
    "    \n",
    "    def rollcall(self):\n",
    "        for i in self.Employees:\n",
    "            print(i)\n",
    "    def check_employee(self):\n",
    "        #Greats the employye or denies them access\n",
    "        if self.name in self.Employees:\n",
    "            print(\"Good Day, \"+ str(self.name),end = \".\\n\")\n",
    "            self.take_attendance()\n",
    "            self.assign_task()\n",
    "           \n",
    "        else:\n",
    "            self.refuse_access()\n",
    "    def take_attendance(self):\n",
    "        #Sets objects attribute to present\n",
    "        self.present = True\n",
    "        if self.present == True:\n",
    "            print(\"Your attendace has been taken\",end = \".\\n\")\n",
    "        \n",
    "    def assign_task(self):\n",
    "        #Gets random task for Tasks list\n",
    "        self.task = random.choice(self.Tasks)\n",
    "        print(\"Your task is \"+ str(self.task),end = \".\\n\")\n",
    "    def refuse_access(self):\n",
    "        # if employee is not registered\n",
    "        print(\"Sorry.\",self.name,\"You are not a registered employeee\",end = \". \")\n",
    "        print(\"Good day\")\n",
    "        \n",
    "        \n",
    "name = str(input(\"What is you name kind employee: \"))  \n",
    "\n",
    "            \n",
    "x = Employee(name)\n",
    "x.check_employee()\n"
   ]
  },
  {
   "cell_type": "code",
   "execution_count": null,
   "metadata": {},
   "outputs": [],
   "source": []
  },
  {
   "cell_type": "code",
   "execution_count": null,
   "metadata": {},
   "outputs": [],
   "source": []
  }
 ],
 "metadata": {
  "kernelspec": {
   "display_name": "Python 3",
   "language": "python",
   "name": "python3"
  },
  "language_info": {
   "codemirror_mode": {
    "name": "ipython",
    "version": 3
   },
   "file_extension": ".py",
   "mimetype": "text/x-python",
   "name": "python",
   "nbconvert_exporter": "python",
   "pygments_lexer": "ipython3",
   "version": "3.8.5"
  }
 },
 "nbformat": 4,
 "nbformat_minor": 4
}
