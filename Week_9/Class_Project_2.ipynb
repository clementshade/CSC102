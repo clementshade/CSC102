{
 "cells": [
  {
   "cell_type": "code",
   "execution_count": 25,
   "metadata": {},
   "outputs": [
    {
     "name": "stdout",
     "output_type": "stream",
     "text": [
      "Input location(EPE/PAU): pau\n",
      "Input Weight of package(KG): 9\n",
      "The weight of the package is 9kg.\n",
      "Delivery site pau.Final cost:  1500\n"
     ]
    }
   ],
   "source": [
    "class delivery_service():\n",
    "    \n",
    "    def __init__(self,location,weight):\n",
    "        self.location = location\n",
    "        self.weight = weight\n",
    "        self.price = 0\n",
    "    def info(self):\n",
    "        print(\"The weight of the package is\",str(self.weight),\n",
    "              end =\"kg.\\n\")\n",
    "        print(\"Delivery site\",str(self.location),\n",
    "              end =\".\")\n",
    "    def calculate_price(self):\n",
    "        if self.location.upper() == \"PAU\" and self.weight >= 10 :\n",
    "            self.price = 2000\n",
    "        elif self.location.upper() == \"PAU\" and self.weight < 10:\n",
    "            self.price = 1500\n",
    "        elif self.location.upper() == \"EPE\" and self.weight > 10:\n",
    "            self.price = 5000\n",
    "        elif self.location.upper() == \"EPE\" and self.weight < 10:\n",
    "            self.price = 4000\n",
    "        else:\n",
    "            print(\"Invalid entry\")\n",
    "        \n",
    "    def reciept(self):\n",
    "        self.info()\n",
    "        print(\"Final cost: \",self.price)\n",
    "\n",
    "L = str(input(\"Input location(EPE/PAU): \" ))\n",
    "W = int(input(\"Input Weight of package(KG): \" ))\n",
    "x = delivery_service(L,W)\n",
    "x.calculate_price()\n",
    "x.reciept()\n"
   ]
  },
  {
   "cell_type": "code",
   "execution_count": null,
   "metadata": {},
   "outputs": [],
   "source": []
  }
 ],
 "metadata": {
  "kernelspec": {
   "display_name": "Python 3",
   "language": "python",
   "name": "python3"
  },
  "language_info": {
   "codemirror_mode": {
    "name": "ipython",
    "version": 3
   },
   "file_extension": ".py",
   "mimetype": "text/x-python",
   "name": "python",
   "nbconvert_exporter": "python",
   "pygments_lexer": "ipython3",
   "version": "3.8.5"
  }
 },
 "nbformat": 4,
 "nbformat_minor": 4
}
