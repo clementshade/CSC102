{
 "cells": [
  {
   "cell_type": "code",
   "execution_count": 20,
   "metadata": {},
   "outputs": [
    {
     "name": "stdout",
     "output_type": "stream",
     "text": [
      "john\n"
     ]
    }
   ],
   "source": [
    "class animal(object):\n",
    "    def __init__(self,animal):\n",
    "        self.animal = animal\n",
    "        self.__name = \"john\"\n",
    "       \n",
    "    \n",
    "\n",
    "dog = animal(\"dog\")     \n",
    "print(dog._animal__name)\n"
   ]
  },
  {
   "cell_type": "code",
   "execution_count": 15,
   "metadata": {},
   "outputs": [
    {
     "name": "stdout",
     "output_type": "stream",
     "text": [
      "My name is LORD OF THE OVERLORD, the king of Miricomark\n"
     ]
    }
   ],
   "source": [
    "Title = \"LORD OF THE OVERLORD\"\n",
    "print(f\"My name is {Title}, the king of Miricomark\")"
   ]
  },
  {
   "cell_type": "code",
   "execution_count": null,
   "metadata": {},
   "outputs": [],
   "source": []
  }
 ],
 "metadata": {
  "kernelspec": {
   "display_name": "Python 3",
   "language": "python",
   "name": "python3"
  },
  "language_info": {
   "codemirror_mode": {
    "name": "ipython",
    "version": 3
   },
   "file_extension": ".py",
   "mimetype": "text/x-python",
   "name": "python",
   "nbconvert_exporter": "python",
   "pygments_lexer": "ipython3",
   "version": "3.8.5"
  }
 },
 "nbformat": 4,
 "nbformat_minor": 4
}
