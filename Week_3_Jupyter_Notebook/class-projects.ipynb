{
 "cells": [
  {
   "cell_type": "markdown",
   "metadata": {},
   "source": [
    "#### OBIEKE CLEMENT || 21120612479 || clement.obieke@pau.edu.ng"
   ]
  },
  {
   "cell_type": "markdown",
   "metadata": {},
   "source": [
    "# PROJECT 1"
   ]
  },
  {
   "cell_type": "markdown",
   "metadata": {},
   "source": [
    "START\n",
    "INPUT num 1\n",
    "INPUT num 2\n",
    "COMPUTE result num 1 - num 2\n",
    "IF result > 17\n",
    "    THEN OUTPUT result is greater than 17\n",
    "ELSE OUTPUT result is less than 17\n",
    "\n",
    "COMPUTE New_result =  2 * Absolute of result\n",
    "OUTPUT New_result\n",
    "ENDIF\n",
    "    \n",
    "END"
   ]
  },
  {
   "cell_type": "code",
   "execution_count": 7,
   "metadata": {},
   "outputs": [
    {
     "name": "stdout",
     "output_type": "stream",
     "text": [
      "num1: 34\n",
      "num2: 12\n",
      "Difference is greater than 17\n",
      "Double of the difference is 22\n"
     ]
    }
   ],
   "source": [
    "num1 = int(input(\"num1: \"))\n",
    "num2 = int(input(\"num2: \"))\n",
    "result = num1 - num2\n",
    "if result < 17:\n",
    "    print(\"Difference is less than 17\")\n",
    "    comment = \"Difference is\"\n",
    "else:\n",
    "    print(\"Difference is greater than 17\" )\n",
    "    result * 2\n",
    "    comment = \"Double of the difference is\"\n",
    "    \n",
    "    \n",
    "New_result = abs(result)\n",
    "\n",
    "print(comment,New_result)\n"
   ]
  },
  {
   "cell_type": "markdown",
   "metadata": {},
   "source": [
    "![diagram](images/dia1.png = 200x100)"
   ]
  },
  {
   "cell_type": "markdown",
   "metadata": {},
   "source": [
    "# PROJECT 2"
   ]
  },
  {
   "cell_type": "code",
   "execution_count": null,
   "metadata": {},
   "outputs": [],
   "source": []
  }
 ],
 "metadata": {
  "kernelspec": {
   "display_name": "Python 3",
   "language": "python",
   "name": "python3"
  },
  "language_info": {
   "codemirror_mode": {
    "name": "ipython",
    "version": 3
   },
   "file_extension": ".py",
   "mimetype": "text/x-python",
   "name": "python",
   "nbconvert_exporter": "python",
   "pygments_lexer": "ipython3",
   "version": "3.8.5"
  }
 },
 "nbformat": 4,
 "nbformat_minor": 4
}
