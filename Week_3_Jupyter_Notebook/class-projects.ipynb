{
 "cells": [
  {
   "cell_type": "markdown",
   "metadata": {},
   "source": [
    "#### OBIEKE CLEMENT || 21120612479 || clement.obieke@pau.edu.ng"
   ]
  },
  {
   "cell_type": "markdown",
   "metadata": {},
   "source": [
    "# PROJECT 1"
   ]
  },
  {
   "cell_type": "markdown",
   "metadata": {},
   "source": [
    "<br>BEGIN\n",
    "<br>INPUT num 1\n",
    "<br>INPUT num 2\n",
    "<br>COMPUTE result num 1 - num 2\n",
    "* IF result > 17\n",
    "    * THEN OUTPUT result is greater than 17\n",
    "    \n",
    "* ELSE OUTPUT result is less than 17\n",
    "    * COMPUTE New_result =  2 * Absolute of result\n",
    "    * OUTPUT New_result\n",
    "    * ENDIF\n",
    "    \n",
    "<br>END"
   ]
  },
  {
   "cell_type": "code",
   "execution_count": 7,
   "metadata": {},
   "outputs": [
    {
     "name": "stdout",
     "output_type": "stream",
     "text": [
      "num1: 34\n",
      "num2: 12\n",
      "Difference is greater than 17\n",
      "Double of the difference is 22\n"
     ]
    }
   ],
   "source": [
    "num1 = int(input(\"num1: \"))\n",
    "num2 = int(input(\"num2: \"))\n",
    "result = num1 - num2\n",
    "if result < 17:\n",
    "    print(\"Difference is less than 17\")\n",
    "    comment = \"Difference is\"\n",
    "else:\n",
    "    print(\"Difference is greater than 17\" )\n",
    "    result * 2\n",
    "    comment = \"Double of the difference is\"\n",
    "    \n",
    "    \n",
    "New_result = abs(result)\n",
    "\n",
    "print(comment,New_result)\n"
   ]
  },
  {
   "cell_type": "markdown",
   "metadata": {},
   "source": [
    "![diagram1](images/dia1.png)"
   ]
  },
  {
   "cell_type": "markdown",
   "metadata": {},
   "source": [
    "# PROJECT 2\n",
    "\n",
    "### PSEUDOCODE"
   ]
  },
  {
   "cell_type": "markdown",
   "metadata": {},
   "source": [
    "\n",
    "<br>BEGIN\n",
    "<br>INPUT num1\n",
    "<br>INPUT num2\n",
    "<br>INPUT nun3\n",
    "<br>IF num1 = num2 = num3\n",
    "   * THEN OUTPUT \"ALL NUMBERS ARE THE SAME\"\n",
    "   * COMPUTE sum = num1 + num2 + num3\n",
    "   * COMPUTE sum * 3\n",
    "   * OUTPUT sum\n",
    "   \n",
    "ELSE OUTPUT \"ALL NUMBERS ARE NOT THE SAME\"\n",
    "   * COMPUTE sum = num1 + num2 + num3\n",
    "   * OUTPUT sum\n",
    "   \n",
    "<br> ENDIF\n",
    "<br>END"
   ]
  },
  {
   "cell_type": "markdown",
   "metadata": {},
   "source": [
    "### CODE"
   ]
  },
  {
   "cell_type": "code",
   "execution_count": 26,
   "metadata": {},
   "outputs": [
    {
     "name": "stdout",
     "output_type": "stream",
     "text": [
      "num1: 1\n",
      "num2: 23\n",
      "num3: 3\n",
      "ALL NUMBERS ARE NOT THE SAME\n",
      "27\n"
     ]
    }
   ],
   "source": [
    "#CODE\n",
    "num1 = int(input(\"num1: \"))\n",
    "num2 = int(input(\"num2: \"))\n",
    "num3 = int(input(\"num3: \"))\n",
    "\n",
    "if num1 == num2 == num3:\n",
    "    print(\"ALL NUMBERS ARE THE SAME\")\n",
    "    sUm = num1 + num2 + num3\n",
    "    sUm * 3\n",
    "    print(sUm)\n",
    "else:\n",
    "    print(\"ALL NUMBERS ARE NOT THE SAME\")\n",
    "    sUm = num1 + num2 + num3\n",
    "    print(sUm)"
   ]
  },
  {
   "cell_type": "markdown",
   "metadata": {},
   "source": [
    "\n",
    "![diagram2](images/dia2.png)"
   ]
  },
  {
   "cell_type": "markdown",
   "metadata": {},
   "source": [
    "# PROJECT 3"
   ]
  },
  {
   "cell_type": "markdown",
   "metadata": {},
   "source": [
    "### PSEUDOCODE"
   ]
  },
  {
   "cell_type": "markdown",
   "metadata": {},
   "source": [
    "<br>BEGIN\n",
    "<br>INPUT num1\n",
    "<br>INPUT num2\n",
    "<br> CREATE status = false\n",
    "<br>IF num1 = num2 \n",
    "   * THEN OUTPUR \"true\"\n",
    "   \n",
    "<br>ELSE\n",
    "   * IF num1 + num2 = 5\n",
    "       * THEN OUTPUT \"true\"\n",
    "   * ELSE \n",
    "       * IF absolute of num1 -num2 \n",
    "           * THEN OUTPIUT \"true\"\n",
    "       * ELSE \"end\"\n",
    "       * ENDIF\n",
    "   * ENDIF\n",
    "   \n",
    "<br>ENDIF\n",
    "<br>END\n"
   ]
  },
  {
   "cell_type": "markdown",
   "metadata": {},
   "source": [
    "### CODE"
   ]
  },
  {
   "cell_type": "code",
   "execution_count": 35,
   "metadata": {},
   "outputs": [
    {
     "name": "stdout",
     "output_type": "stream",
     "text": [
      "num1: 5\n",
      "num2: 11\n",
      "False\n"
     ]
    }
   ],
   "source": [
    "num1 = int(input(\"num1: \"))\n",
    "num2 = int(input(\"num2: \"))\n",
    "c = abs(num1 - num2)\n",
    "d = num1 + num2\n",
    "if num1 == num2 or c== 5 or d == 5:\n",
    "    print(True)\n",
    "else:\n",
    "    print(False)"
   ]
  },
  {
   "cell_type": "markdown",
   "metadata": {},
   "source": [
    "\n",
    "![diagram3](images/dia3.png)"
   ]
  },
  {
   "cell_type": "markdown",
   "metadata": {},
   "source": [
    "# PROJECT 4"
   ]
  },
  {
   "cell_type": "markdown",
   "metadata": {},
   "source": [
    "### PSEUDOCODE"
   ]
  },
  {
   "cell_type": "markdown",
   "metadata": {},
   "source": [
    "<br> BEGIN\n",
    "<br>  INPUT num1\n",
    "<br> INPUT num2\n",
    "<br> INPUT num3\n",
    "<br> CREATE list [num1,num2,num3]\n",
    "<br> COMPUTE max = MAX(list)\n",
    "<br> REMOVE max in list\n",
    "<br> COMPUTE min = MIN(list)\n",
    "<br> REMOVE min in list\n",
    "<br> OUTPUT \"MAX = \", max\n",
    "<br> OUTPUT \"MIDDLE =\", list\n",
    "<br> OUTPUT \"MIN = \", min \n",
    "<br> END"
   ]
  },
  {
   "cell_type": "markdown",
   "metadata": {},
   "source": [
    "### CODE"
   ]
  },
  {
   "cell_type": "code",
   "execution_count": 46,
   "metadata": {},
   "outputs": [
    {
     "name": "stdout",
     "output_type": "stream",
     "text": [
      "num1 1\n",
      "num2 2\n",
      "num3 3\n",
      "MAX=  3\n",
      "MIDDLE =  2\n",
      "MIN =  1\n"
     ]
    }
   ],
   "source": [
    "num1 = int(input(\"num1 \"))\n",
    "num2 = int(input(\"num2 \"))\n",
    "num3 = int(input(\"num3 \"))\n",
    "lis1= [num1,num2,num3]\n",
    "MAX = max(lis1)\n",
    "MIN = min(lis1)\n",
    "lis1.remove(MAX)\n",
    "lis1.remove(MIN)\n",
    "MID = (lis1[0])\n",
    "\n",
    "print(\"MAX= \",MAX)\n",
    "print(\"MIDDLE = \",MID)\n",
    "print(\"MIN = \",MIN)"
   ]
  },
  {
   "cell_type": "markdown",
   "metadata": {},
   "source": [
    "\n",
    "![diagram4](images/dia4.png)"
   ]
  },
  {
   "cell_type": "markdown",
   "metadata": {},
   "source": [
    "# PROJECT 5"
   ]
  },
  {
   "cell_type": "markdown",
   "metadata": {},
   "source": [
    "### PSEUDOCODE"
   ]
  },
  {
   "cell_type": "markdown",
   "metadata": {},
   "source": [
    "<br> BEGIN\n",
    "<br> CREATE list []\n",
    "<br> INPUT Number\n",
    "<br>FOR i = 1 To Number\n",
    "   * COMPUT i^3\n",
    "   * ENTER i To list\n",
    "   \n",
    "<br> CREATE num\n",
    "<br> FOR i in list\n",
    "   * num = num + i\n",
    "   \n",
    "<br> OUTPUT list \n",
    "<br> END"
   ]
  },
  {
   "cell_type": "markdown",
   "metadata": {},
   "source": [
    "### CODE"
   ]
  },
  {
   "cell_type": "code",
   "execution_count": 55,
   "metadata": {},
   "outputs": [
    {
     "name": "stdout",
     "output_type": "stream",
     "text": [
      "number please6\n",
      "225\n"
     ]
    }
   ],
   "source": [
    "lis1 = []\n",
    "N = int(input(\"number please\"))\n",
    "for i in range(1,N):\n",
    "    lis1.append(i**3)\n",
    "    \n",
    "\n",
    "num = 0\n",
    "for i in lis1:\n",
    "    num += i\n",
    "print(num)"
   ]
  },
  {
   "cell_type": "markdown",
   "metadata": {},
   "source": [
    "\n",
    "![diagram5](images/dia5.png)"
   ]
  },
  {
   "cell_type": "code",
   "execution_count": null,
   "metadata": {},
   "outputs": [],
   "source": [
    "%lsmagic   n "
   ]
  },
  {
   "cell_type": "code",
   "execution_count": null,
   "metadata": {},
   "outputs": [],
   "source": []
  }
 ],
 "metadata": {
  "kernelspec": {
   "display_name": "Python 3",
   "language": "python",
   "name": "python3"
  },
  "language_info": {
   "codemirror_mode": {
    "name": "ipython",
    "version": 3
   },
   "file_extension": ".py",
   "mimetype": "text/x-python",
   "name": "python",
   "nbconvert_exporter": "python",
   "pygments_lexer": "ipython3",
   "version": "3.8.5"
  }
 },
 "nbformat": 4,
 "nbformat_minor": 4
}
