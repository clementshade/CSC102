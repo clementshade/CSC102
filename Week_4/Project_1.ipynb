{
 "cells": [
  {
   "cell_type": "markdown",
   "metadata": {},
   "source": [
    "# Project 1"
   ]
  },
  {
   "cell_type": "code",
   "execution_count": 25,
   "metadata": {},
   "outputs": [],
   "source": [
    "from openpyxl import Workbook, load_workbook\n",
    "# This program requires openpyxl(a python \n",
    "# module to be installed)\n",
    "#initializing new excel file\n",
    "wb = Workbook()\n",
    "#getting access to current worksheet\n",
    "ws = wb.active\n",
    "ws.title = \"Students_Data\"\n",
    "formart = ['Name','Age','Height','Scores']\n",
    "#list containing girls information\n",
    "ann = [\"Ann\",14,5.5,80]\n",
    "jane = [\"Jane\",16,6.0,85]\n",
    "joan = [\"Joan\",14,5.4,70]\n",
    "clare = [\"Clare\",17,5.9,60]\n",
    "elizabeth = [\"Elizabeth\",16,5.6,76]\n",
    "\n",
    "Girls = [ann,jane,joan,clare,elizabeth]\n",
    "\n",
    "#list containing boys information\n",
    "charles = [\"Charles\",15,5.7,85]\n",
    "jude = [\"Jude\",16,5.9,74]\n",
    "james = [\"James\",16,5.8,87]\n",
    "kelvin = [\"Kelvin\",17,6.1,75]\n",
    "prosper = [\"Prosper\",14,5.9,68]\n",
    "\n",
    "Boys =  [charles,jude,james,kelvin,prosper]\n",
    "\n",
    "#editing excel file\n",
    "\n",
    "ws.append(formart)\n",
    "ws.append([\"GIRLS\"])\n",
    "for i in Girls:\n",
    "    ws.append(i)\n",
    "ws.append([\"BOYS\"])\n",
    "for i in Boys:\n",
    "    ws.append(i)\n",
    "    \n",
    "#saving\n",
    "wb.save(\"Project_1_Excel.xlsx\")"
   ]
  },
  {
   "cell_type": "markdown",
   "metadata": {},
   "source": [
    "## Pseudocode"
   ]
  },
  {
   "cell_type": "markdown",
   "metadata": {},
   "source": [
    "<br>BEGIN\n",
    "<br>INPUT Workbook\n",
    "<br>INPUT List of Girls data\n",
    "<br>INPUT List of Boy's data \n",
    "<br>APPEND Girl's data into workbook\n",
    "<br>APPEND Boy's data into workbook\n",
    "<br>OUTPUT  Workbook\n",
    "<br>END"
   ]
  },
  {
   "cell_type": "markdown",
   "metadata": {},
   "source": [
    "![Flowchart](flowchart.png)"
   ]
  },
  {
   "cell_type": "code",
   "execution_count": null,
   "metadata": {},
   "outputs": [],
   "source": []
  }
 ],
 "metadata": {
  "kernelspec": {
   "display_name": "Python 3",
   "language": "python",
   "name": "python3"
  },
  "language_info": {
   "codemirror_mode": {
    "name": "ipython",
    "version": 3
   },
   "file_extension": ".py",
   "mimetype": "text/x-python",
   "name": "python",
   "nbconvert_exporter": "python",
   "pygments_lexer": "ipython3",
   "version": "3.8.5"
  }
 },
 "nbformat": 4,
 "nbformat_minor": 4
}
