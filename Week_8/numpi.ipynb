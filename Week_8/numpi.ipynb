{
 "cells": [
  {
   "cell_type": "code",
   "execution_count": null,
   "metadata": {},
   "outputs": [],
   "source": [
    "import numpy as np"
   ]
  },
  {
   "cell_type": "code",
   "execution_count": null,
   "metadata": {},
   "outputs": [],
   "source": [
    "a = np.array([1,7,4,67,8,4,2,89,4,2,5,7,4,8,4,5,23,7,5,9,6,4,6])\n",
    "a = np.sort(a)\n",
    "b = np.ones(7, dtype=np.int)\n",
    "print(a)"
   ]
  },
  {
   "cell_type": "code",
   "execution_count": 18,
   "metadata": {},
   "outputs": [
    {
     "name": "stdout",
     "output_type": "stream",
     "text": [
      "second\n"
     ]
    }
   ],
   "source": [
    "a = ['First','second']\n",
    "b = [a,a,a]\n",
    "\n",
    "c= [b,b]\n",
    "size = np.array(c)\n",
    "print(size[1,2,1])\n",
    "\n"
   ]
  },
  {
   "cell_type": "code",
   "execution_count": null,
   "metadata": {},
   "outputs": [],
   "source": [
    "a = [1]\n",
    "a1 = [\"Dumebi\"]\n",
    "a2 = [\"hero\"]\n",
    "a3 = ['yg']\n",
    "\n",
    "b =  [a]\n",
    "b1 = [a1]\n",
    "b2 = [a2]\n",
    "\n",
    "\n",
    "c = [b,b1]\n",
    "c1 = [b2,b1]\n",
    "\n",
    "d = [c,c1,c]\n",
    "\n",
    "e = [d,d]\n",
    "\n",
    "\n",
    "Space = np.array(e)\n",
    "\n",
    "print(Space.ndim)\n",
    "\n",
    "#print(Space)\n",
    "\n",
    "print(Space[1,2,1,0,])"
   ]
  },
  {
   "cell_type": "code",
   "execution_count": 12,
   "metadata": {},
   "outputs": [
    {
     "name": "stdout",
     "output_type": "stream",
     "text": [
      "[array([1, 2, 3]), array([4, 5]), array([6, 7]), array([8, 9])]\n"
     ]
    }
   ],
   "source": [
    "import numpy as np\n",
    "lis1 = range(1,10)\n",
    "a = np.array(lis1)\n",
    "\n",
    "x = a = np.array_split(a,4)\n",
    "print(x)"
   ]
  },
  {
   "cell_type": "code",
   "execution_count": null,
   "metadata": {},
   "outputs": [],
   "source": [
    "print(np.__version__)"
   ]
  },
  {
   "cell_type": "code",
   "execution_count": null,
   "metadata": {},
   "outputs": [],
   "source": [
    "dicts = {'Hello':['Book','Hero']}\n",
    "\n",
    "print(dicts)\n",
    "\n"
   ]
  },
  {
   "cell_type": "code",
   "execution_count": null,
   "metadata": {},
   "outputs": [],
   "source": [
    "class Hero():\n",
    "    def hero(x):\n",
    "        print(\"My hero name is\",x)\n",
    "        return\n",
    "\n",
    "a = Hero\n",
    "b = Hero\n",
    "\n",
    "a.hero(\"Flash\")\n"
   ]
  },
  {
   "cell_type": "code",
   "execution_count": null,
   "metadata": {},
   "outputs": [],
   "source": [
    "#wowwwwwwwwwwwww. I'm proud of you"
   ]
  }
 ],
 "metadata": {
  "kernelspec": {
   "display_name": "Python 3",
   "language": "python",
   "name": "python3"
  },
  "language_info": {
   "codemirror_mode": {
    "name": "ipython",
    "version": 3
   },
   "file_extension": ".py",
   "mimetype": "text/x-python",
   "name": "python",
   "nbconvert_exporter": "python",
   "pygments_lexer": "ipython3",
   "version": "3.8.5"
  }
 },
 "nbformat": 4,
 "nbformat_minor": 4
}
