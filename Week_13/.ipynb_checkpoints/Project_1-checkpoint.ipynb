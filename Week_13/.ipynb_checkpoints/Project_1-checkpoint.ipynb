{
 "cells": [
  {
   "cell_type": "code",
   "execution_count": null,
   "metadata": {},
   "outputs": [],
   "source": [
    "CSC 201\n",
    "CSC 205\n",
    "STA 205"
   ]
  },
  {
   "cell_type": "code",
   "execution_count": 4,
   "metadata": {},
   "outputs": [
    {
     "name": "stdout",
     "output_type": "stream",
     "text": [
      "Enter grade for CSC 201: 1\n",
      "Enter grade for CSC 205: 2\n",
      "Enter grade for STA 205: 3\n",
      "You scored 2.0\n"
     ]
    }
   ],
   "source": [
    "a = int(input(\"Enter grade for CSC 201: \"))\n",
    "b = int(input(\"Enter grade for CSC 205: \"))\n",
    "c = int(input(\"Enter grade for STA 205: \"))\n",
    "\n",
    "def avg3(a,b,c):\n",
    "    return ((a+b+c)/3)\n",
    "\n",
    "print (f\"You scored {avg3(a,b,c)}\")"
   ]
  },
  {
   "cell_type": "code",
   "execution_count": null,
   "metadata": {},
   "outputs": [],
   "source": []
  }
 ],
 "metadata": {
  "kernelspec": {
   "display_name": "Python 3",
   "language": "python",
   "name": "python3"
  },
  "language_info": {
   "codemirror_mode": {
    "name": "ipython",
    "version": 3
   },
   "file_extension": ".py",
   "mimetype": "text/x-python",
   "name": "python",
   "nbconvert_exporter": "python",
   "pygments_lexer": "ipython3",
   "version": "3.8.5"
  }
 },
 "nbformat": 4,
 "nbformat_minor": 4
}
