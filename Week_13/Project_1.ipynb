{
 "cells": [
  {
   "cell_type": "code",
   "execution_count": 5,
   "metadata": {},
   "outputs": [
    {
     "name": "stdout",
     "output_type": "stream",
     "text": [
      "Enter grade for CSC 201: 1\n",
      "Enter grade for CSC 205: 2\n",
      "Enter grade for STA 205: 3\n"
     ]
    }
   ],
   "source": []
  },
  {
   "cell_type": "code",
   "execution_count": 14,
   "metadata": {},
   "outputs": [
    {
     "name": "stdout",
     "output_type": "stream",
     "text": [
      "Enter grade for CSC 201(100): 13\n",
      "13 /100\n",
      "Enter grade for CSC 205(100): 43\n",
      "43 /100\n",
      "Enter grade for STA 205(100): 23\n",
      "23 /100\n",
      "Total is  79\n",
      "Average is  26.333333333333332\n",
      "Percentages are  None\n"
     ]
    }
   ],
   "source": [
    "class Grader():\n",
    "    def __init__(self,a,b,c):\n",
    "        self.a = a\n",
    "        self.b = b\n",
    "        self.c = c\n",
    "        \n",
    "    def add(self):\n",
    "        return self.a +self.b +self.c\n",
    "        \n",
    "    def avg(self):\n",
    "        return ((self.a+self.b+self.c)/3)\n",
    "    def percent(self):\n",
    "        return \n",
    "    def result(self):\n",
    "        print(f\"Total is  {self.add()}\")\n",
    "        print(f\"Average is  {self.avg()}\")\n",
    "        print(f\"Percentages are  {self.percent()}\")\n",
    "    \n",
    "a = int(input(\"Enter grade for CSC 201(100): \"))\n",
    "print(str(a),\"/100\")\n",
    "b = int(input(\"Enter grade for CSC 205(100): \"))\n",
    "print(str(b),\"/100\")\n",
    "c = int(input(\"Enter grade for STA 205(100): \"))\n",
    "print(str(c),\"/100\")\n",
    "Grad = Grader(a,b,c)\n",
    "Grad.result()\n"
   ]
  },
  {
   "cell_type": "code",
   "execution_count": null,
   "metadata": {},
   "outputs": [],
   "source": []
  }
 ],
 "metadata": {
  "kernelspec": {
   "display_name": "Python 3",
   "language": "python",
   "name": "python3"
  },
  "language_info": {
   "codemirror_mode": {
    "name": "ipython",
    "version": 3
   },
   "file_extension": ".py",
   "mimetype": "text/x-python",
   "name": "python",
   "nbconvert_exporter": "python",
   "pygments_lexer": "ipython3",
   "version": "3.8.5"
  }
 },
 "nbformat": 4,
 "nbformat_minor": 4
}
