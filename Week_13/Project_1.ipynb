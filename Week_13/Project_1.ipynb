{
 "cells": [
  {
   "cell_type": "code",
   "execution_count": 5,
   "metadata": {},
   "outputs": [
    {
     "name": "stdout",
     "output_type": "stream",
     "text": [
      "Enter grade for CSC 201: 1\n",
      "Enter grade for CSC 205: 2\n",
      "Enter grade for STA 205: 3\n"
     ]
    }
   ],
   "source": []
  },
  {
   "cell_type": "code",
   "execution_count": 19,
   "metadata": {},
   "outputs": [
    {
     "name": "stdout",
     "output_type": "stream",
     "text": [
      "Enter grade for CSC 201(100): 123\n",
      "123 /100\n",
      "Enter grade for CSC 205(100): 435\n",
      "435 /100\n",
      "Enter grade for STA 205(100): 76\n",
      "76 /100 \n",
      "\n",
      "Total is  634\n",
      "Average is  211.33333333333334\n",
      "Percentages are \n",
      "  CSC 201:19.400630914826497, CSC 205: 68.61198738170347, STA 205: 11.987381703470032\n"
     ]
    }
   ],
   "source": [
    "class Grader():\n",
    "    def __init__(self,a,b,c):\n",
    "        self.a = a\n",
    "        self.b = b\n",
    "        self.c = c\n",
    "        \n",
    "    def add(self):\n",
    "        return self.a +self.b +self.c\n",
    "        \n",
    "    def avg(self):\n",
    "        return ((self.a+self.b+self.c)/3)\n",
    "    def percent(self):\n",
    "        a_percent = (self.a/self.add()) * 100\n",
    "        b_percent = (self.b/self.add()) * 100\n",
    "        c_percent = (self.c/self.add()) * 100\n",
    "        return f\"CSC 201:{a_percent}, CSC 205: {b_percent}, STA 205: {c_percent}\"\n",
    "    def result(self):\n",
    "        print(f\"Total is  {self.add()}\")\n",
    "        print(f\"Average is  {self.avg()}\")\n",
    "        print(f\"Percentages are \\n  {self.percent()}\")\n",
    "    \n",
    "a = int(input(\"Enter grade for CSC 201(100): \"))\n",
    "print(str(a),\"/100\")\n",
    "b = int(input(\"Enter grade for CSC 205(100): \"))\n",
    "print(str(b),\"/100\")\n",
    "c = int(input(\"Enter grade for STA 205(100): \"))\n",
    "print(str(c),\"/100 \\n\" )\n",
    "Grad = Grader(a,b,c)\n",
    "Grad.result()\n"
   ]
  },
  {
   "cell_type": "code",
   "execution_count": null,
   "metadata": {},
   "outputs": [],
   "source": []
  }
 ],
 "metadata": {
  "kernelspec": {
   "display_name": "Python 3",
   "language": "python",
   "name": "python3"
  },
  "language_info": {
   "codemirror_mode": {
    "name": "ipython",
    "version": 3
   },
   "file_extension": ".py",
   "mimetype": "text/x-python",
   "name": "python",
   "nbconvert_exporter": "python",
   "pygments_lexer": "ipython3",
   "version": "3.8.5"
  }
 },
 "nbformat": 4,
 "nbformat_minor": 4
}
