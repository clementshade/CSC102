{
 "cells": [
  {
   "cell_type": "code",
   "execution_count": 47,
   "metadata": {},
   "outputs": [
    {
     "name": "stdout",
     "output_type": "stream",
     "text": [
      "13\n",
      "*lick lick*\n"
     ]
    }
   ],
   "source": [
    "class animal(object):\n",
    "\n",
    "    def __init__(self):\n",
    "        self.age = 13\n",
    "        pass\n",
    "    #eat,sleep,speak,run,hide,life\n",
    "    def eat(self):\n",
    "        print(\"*eating sounds*\")\n",
    "    def sleep(self):\n",
    "        print(\"*Zzz..*\")\n",
    "    \n",
    "    def speak(self):\n",
    "        print(\"*ahhhh*\")\n",
    "        \n",
    "    def run(self,distance = 10):\n",
    "        print(\"new distance= \",distance)\n",
    "    def info(self):\n",
    "        print(self.age)\n",
    "        \n",
    "        \n",
    "class dog(animal):\n",
    "    def __init__(self):\n",
    "        animal.__init__(self)\n",
    "   \n",
    "        \n",
    "    def lick(self):\n",
    "        print(self.age)\n",
    "        print(\"*lick lick*\")\n",
    "    \n",
    "    def speak(self):\n",
    "    \n",
    "        print(\"*ruff ruff*\")\n",
    "    pass\n",
    "#animal.lick()\n",
    "\n",
    "dog = dog()\n",
    "dog.lick()\n"
   ]
  },
  {
   "cell_type": "code",
   "execution_count": null,
   "metadata": {},
   "outputs": [],
   "source": []
  }
 ],
 "metadata": {
  "kernelspec": {
   "display_name": "Python 3",
   "language": "python",
   "name": "python3"
  },
  "language_info": {
   "codemirror_mode": {
    "name": "ipython",
    "version": 3
   },
   "file_extension": ".py",
   "mimetype": "text/x-python",
   "name": "python",
   "nbconvert_exporter": "python",
   "pygments_lexer": "ipython3",
   "version": "3.8.5"
  }
 },
 "nbformat": 4,
 "nbformat_minor": 4
}
