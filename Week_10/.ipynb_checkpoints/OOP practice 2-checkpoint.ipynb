{
 "cells": [
  {
   "cell_type": "code",
   "execution_count": 33,
   "metadata": {},
   "outputs": [
    {
     "ename": "SyntaxError",
     "evalue": "invalid syntax (<ipython-input-33-d3be31fe3c2a>, line 14)",
     "output_type": "error",
     "traceback": [
      "\u001b[1;36m  File \u001b[1;32m\"<ipython-input-33-d3be31fe3c2a>\"\u001b[1;36m, line \u001b[1;32m14\u001b[0m\n\u001b[1;33m    def run(self,self.distance = 10):\u001b[0m\n\u001b[1;37m                     ^\u001b[0m\n\u001b[1;31mSyntaxError\u001b[0m\u001b[1;31m:\u001b[0m invalid syntax\n"
     ]
    }
   ],
   "source": [
    "class animal(object):\n",
    "    age = 12\n",
    "    def __init__(self):\n",
    "        \n",
    "        pass\n",
    "    #eat,sleep,speak,run,hide,life\n",
    "    def eat(self):\n",
    "        print(\"*eating sounds*\")\n",
    "    def sleep(self):\n",
    "        print(\"*Zzz..*\")\n",
    "    \n",
    "    def speak(self):\n",
    "        print(\"*ahhhh*\")\n",
    "        \n",
    "    def run(self,self.distance = 10):\n",
    "        print(\"new distance= \",distance)\n",
    "    def info(self):\n",
    "        print(self.age)\n",
    "        \n",
    "        \n",
    "class dog(animal):\n",
    "    def __init__(self):\n",
    "        animal.__init__(age):\n",
    "    def lick(self):\n",
    "        print(\"*lick lick*\")\n",
    "    \n",
    "    def speak(self):\n",
    "        print(\"*ruff ruff*\")\n",
    "    pass\n",
    "animal = animal(13)\n",
    "#animal.lick()\n",
    "dog.run()\n",
    "dog = dog()\n",
    "dog.lick()\n"
   ]
  },
  {
   "cell_type": "code",
   "execution_count": null,
   "metadata": {},
   "outputs": [],
   "source": []
  }
 ],
 "metadata": {
  "kernelspec": {
   "display_name": "Python 3",
   "language": "python",
   "name": "python3"
  },
  "language_info": {
   "codemirror_mode": {
    "name": "ipython",
    "version": 3
   },
   "file_extension": ".py",
   "mimetype": "text/x-python",
   "name": "python",
   "nbconvert_exporter": "python",
   "pygments_lexer": "ipython3",
   "version": "3.8.5"
  }
 },
 "nbformat": 4,
 "nbformat_minor": 4
}
